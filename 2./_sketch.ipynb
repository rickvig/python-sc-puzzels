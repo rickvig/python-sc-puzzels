{
 "cells": [
  {
   "cell_type": "markdown",
   "metadata": {},
   "source": [
    "Escreva um programa que imprima os números de 1 a 100.\\\n",
    "Mas para múltiplos de três imprima “Três” em vez do número e para múltiplos de cinco imprima “Cinco”.\\\n",
    "Para números múltiplos de três e cinco, imprima “TrêsCinco”.\n",
    "\n",
    "\n",
    "Write a program that prints the numbers from 1 to 100.\\\n",
    "But for multiples of three print “Three” instead of the number and for the multiples of five print “Five”.\\\n",
    "For numbers which are multiples of both three and five print “ThreeFive”."
   ]
  },
  {
   "cell_type": "code",
   "execution_count": 1,
   "metadata": {},
   "outputs": [
    {
     "name": "stdout",
     "output_type": "stream",
     "text": [
      "[15, 30, 45, 60, 75, 90]\n"
     ]
    }
   ],
   "source": [
    "# for number_to_calculate in range(1, 100):\n",
    "#     if (number_to_calculate % 3 == 0) and (number_to_calculate % 5 == 0):\n",
    "#         print( number_to_calculate)\n",
    "\n",
    "\n",
    "multiples_of_3_and_5 = [number_to_calculate for number_to_calculate in range(1, 100) if number_to_calculate % 3 == 0 and number_to_calculate % 5 == 0]\n",
    "print(multiples_of_3_and_5)\n",
    "    "
   ]
  },
  {
   "cell_type": "code",
   "execution_count": 1,
   "metadata": {},
   "outputs": [
    {
     "ename": "NameError",
     "evalue": "name 'i' is not defined",
     "output_type": "error",
     "traceback": [
      "\u001b[0;31m---------------------------------------------------------------------------\u001b[0m",
      "\u001b[0;31mNameError\u001b[0m                                 Traceback (most recent call last)",
      "Cell \u001b[0;32mIn[1], line 3\u001b[0m\n\u001b[1;32m      1\u001b[0m \u001b[38;5;28;01mfor\u001b[39;00m number_to_calculate \u001b[38;5;129;01min\u001b[39;00m \u001b[38;5;28mrange\u001b[39m(\u001b[38;5;241m100\u001b[39m):\n\u001b[1;32m      2\u001b[0m     \u001b[38;5;28;01mif\u001b[39;00m (number_to_calculate \u001b[38;5;241m%\u001b[39m \u001b[38;5;241m3\u001b[39m \u001b[38;5;241m==\u001b[39m \u001b[38;5;241m0\u001b[39m) \u001b[38;5;129;01mand\u001b[39;00m (number_to_calculate \u001b[38;5;241m%\u001b[39m \u001b[38;5;241m5\u001b[39m \u001b[38;5;241m==\u001b[39m \u001b[38;5;241m0\u001b[39m):\n\u001b[0;32m----> 3\u001b[0m         \u001b[38;5;28mprint\u001b[39m( i, i\u001b[38;5;241m%\u001b[39m\u001b[38;5;241m3\u001b[39m, i\u001b[38;5;241m%\u001b[39m\u001b[38;5;241m5\u001b[39m)\n",
      "\u001b[0;31mNameError\u001b[0m: name 'i' is not defined"
     ]
    }
   ],
   "source": [
    "for number_to_calculate in range(100):\n",
    "    if (number_to_calculate % 3 == 0) and (number_to_calculate % 5 == 0):\n",
    "        print( i, i%3, i%5)"
   ]
  },
  {
   "cell_type": "code",
   "execution_count": 2,
   "metadata": {},
   "outputs": [
    {
     "data": {
      "text/plain": [
       "['1',\n",
       " '2',\n",
       " 'Tree',\n",
       " '4',\n",
       " 'Five',\n",
       " 'Tree',\n",
       " '7',\n",
       " '8',\n",
       " 'Tree',\n",
       " 'Five',\n",
       " '11',\n",
       " 'Tree',\n",
       " '13',\n",
       " '14',\n",
       " 'treeFive',\n",
       " '16',\n",
       " '17',\n",
       " 'Tree',\n",
       " '19',\n",
       " 'Five',\n",
       " 'Tree',\n",
       " '22',\n",
       " '23',\n",
       " 'Tree',\n",
       " 'Five',\n",
       " '26',\n",
       " 'Tree',\n",
       " '28',\n",
       " '29',\n",
       " 'treeFive',\n",
       " '31',\n",
       " '32',\n",
       " 'Tree',\n",
       " '34',\n",
       " 'Five',\n",
       " 'Tree',\n",
       " '37',\n",
       " '38',\n",
       " 'Tree',\n",
       " 'Five',\n",
       " '41',\n",
       " 'Tree',\n",
       " '43',\n",
       " '44',\n",
       " 'treeFive',\n",
       " '46',\n",
       " '47',\n",
       " 'Tree',\n",
       " '49',\n",
       " 'Five',\n",
       " 'Tree',\n",
       " '52',\n",
       " '53',\n",
       " 'Tree',\n",
       " 'Five',\n",
       " '56',\n",
       " 'Tree',\n",
       " '58',\n",
       " '59',\n",
       " 'treeFive',\n",
       " '61',\n",
       " '62',\n",
       " 'Tree',\n",
       " '64',\n",
       " 'Five',\n",
       " 'Tree',\n",
       " '67',\n",
       " '68',\n",
       " 'Tree',\n",
       " 'Five',\n",
       " '71',\n",
       " 'Tree',\n",
       " '73',\n",
       " '74',\n",
       " 'treeFive',\n",
       " '76',\n",
       " '77',\n",
       " 'Tree',\n",
       " '79',\n",
       " 'Five',\n",
       " 'Tree',\n",
       " '82',\n",
       " '83',\n",
       " 'Tree',\n",
       " 'Five',\n",
       " '86',\n",
       " 'Tree',\n",
       " '88',\n",
       " '89',\n",
       " 'treeFive',\n",
       " '91',\n",
       " '92',\n",
       " 'Tree',\n",
       " '94',\n",
       " 'Five',\n",
       " 'Tree',\n",
       " '97',\n",
       " '98',\n",
       " 'Tree']"
      ]
     },
     "execution_count": 2,
     "metadata": {},
     "output_type": "execute_result"
    }
   ],
   "source": [
    "def show_number(number_to_calculate):\n",
    "    if number_to_calculate % 3 == 0 and number_to_calculate % 5 == 0:\n",
    "        return 'treeFive'\n",
    "    elif number_to_calculate % 3 == 0:\n",
    "        return 'Tree'\n",
    "    elif number_to_calculate % 5 == 0:\n",
    "        return 'Five'\n",
    "    else:\n",
    "        return str(number_to_calculate)\n",
    "\n",
    " \n",
    "    \n",
    "opa = list(map(lambda number_to_calculate: show_number(number_to_calculate), range(1, 100)))\n",
    "\n",
    "opa"
   ]
  },
  {
   "cell_type": "code",
   "execution_count": 40,
   "metadata": {},
   "outputs": [
    {
     "name": "stdout",
     "output_type": "stream",
     "text": [
      "{15: 'TreeFive', 30: 'TreeFive', 45: 'TreeFive', 60: 'TreeFive', 75: 'TreeFive', 90: 'TreeFive'}\n",
      "{3: 'Tree', 6: 'Tree', 9: 'Tree', 12: 'Tree', 15: 'Tree', 18: 'Tree', 21: 'Tree', 24: 'Tree', 27: 'Tree', 30: 'Tree', 33: 'Tree', 36: 'Tree', 39: 'Tree', 42: 'Tree', 45: 'Tree', 48: 'Tree', 51: 'Tree', 54: 'Tree', 57: 'Tree', 60: 'Tree', 63: 'Tree', 66: 'Tree', 69: 'Tree', 72: 'Tree', 75: 'Tree', 78: 'Tree', 81: 'Tree', 84: 'Tree', 87: 'Tree', 90: 'Tree', 93: 'Tree', 96: 'Tree', 99: 'Tree'}\n",
      "{5: 'Five', 10: 'Five', 15: 'Five', 20: 'Five', 25: 'Five', 30: 'Five', 35: 'Five', 40: 'Five', 45: 'Five', 50: 'Five', 55: 'Five', 60: 'Five', 65: 'Five', 70: 'Five', 75: 'Five', 80: 'Five', 85: 'Five', 90: 'Five', 95: 'Five'}\n"
     ]
    },
    {
     "ename": "TypeError",
     "evalue": "'builtin_function_or_method' object is not iterable",
     "output_type": "error",
     "traceback": [
      "\u001b[0;31m---------------------------------------------------------------------------\u001b[0m",
      "\u001b[0;31mTypeError\u001b[0m                                 Traceback (most recent call last)",
      "Cell \u001b[0;32mIn[40], line 31\u001b[0m\n\u001b[1;32m     25\u001b[0m         opa \u001b[38;5;241m=\u001b[39m number_to_calculate\n\u001b[1;32m     27\u001b[0m     \u001b[38;5;28;01mreturn\u001b[39;00m opa\n\u001b[0;32m---> 31\u001b[0m \u001b[38;5;28mlist\u001b[39m(\u001b[38;5;28mmap\u001b[39m(\u001b[38;5;28;01mlambda\u001b[39;00m number_to_calculate: show_number(number_to_calculate), \u001b[38;5;28mrange\u001b[39m(\u001b[38;5;241m1\u001b[39m, \u001b[38;5;241m100\u001b[39m)))\n",
      "Cell \u001b[0;32mIn[40], line 31\u001b[0m, in \u001b[0;36m<lambda>\u001b[0;34m(number_to_calculate)\u001b[0m\n\u001b[1;32m     25\u001b[0m         opa \u001b[38;5;241m=\u001b[39m number_to_calculate\n\u001b[1;32m     27\u001b[0m     \u001b[38;5;28;01mreturn\u001b[39;00m opa\n\u001b[0;32m---> 31\u001b[0m \u001b[38;5;28mlist\u001b[39m(\u001b[38;5;28mmap\u001b[39m(\u001b[38;5;28;01mlambda\u001b[39;00m number_to_calculate: show_number(number_to_calculate), \u001b[38;5;28mrange\u001b[39m(\u001b[38;5;241m1\u001b[39m, \u001b[38;5;241m100\u001b[39m)))\n",
      "Cell \u001b[0;32mIn[40], line 13\u001b[0m, in \u001b[0;36mshow_number\u001b[0;34m(number_to_calculate)\u001b[0m\n\u001b[1;32m     12\u001b[0m \u001b[38;5;28;01mdef\u001b[39;00m \u001b[38;5;21mshow_number\u001b[39m(number_to_calculate):\n\u001b[0;32m---> 13\u001b[0m     \u001b[38;5;28mprint\u001b[39m(\u001b[38;5;28mlist\u001b[39m(multiples_of_3_and_5\u001b[38;5;241m.\u001b[39mkeys))\n\u001b[1;32m     14\u001b[0m     \u001b[38;5;28;01mtry\u001b[39;00m:\n\u001b[1;32m     15\u001b[0m         \u001b[38;5;28;01mreturn\u001b[39;00m multiples_of_3_and_5[number_to_calculate]\n",
      "\u001b[0;31mTypeError\u001b[0m: 'builtin_function_or_method' object is not iterable"
     ]
    }
   ],
   "source": [
    "multiples_of_3_and_5 = {number: 'TreeFive' for number in range(1, 100) if number % 3 == 0 and number % 5 == 0}\n",
    "print(multiples_of_3_and_5)\n",
    "\n",
    "multiples_of_3 = {number: 'Tree' for number in range(1, 100) if number % 3 == 0}\n",
    "print(multiples_of_3)\n",
    "\n",
    "multiples_of_5 = {number: 'Five' for number in range(1, 100) if number % 5 == 0}\n",
    "print(multiples_of_5)\n",
    "\n",
    "\n",
    "\n",
    "def show_number(number_to_calculate):\n",
    "    try:\n",
    "        return multiples_of_3_and_5[number_to_calculate]\n",
    "    except: \n",
    "        opa = number_to_calculate\n",
    "    try:\n",
    "        return multiples_of_3[number_to_calculate]\n",
    "    except:\n",
    "        opa = number_to_calculate\n",
    "    try:\n",
    "        return multiples_of_5[number_to_calculate]    \n",
    "    except:\n",
    "        opa = number_to_calculate\n",
    "    \n",
    "    return opa\n",
    "\n",
    " \n",
    "    \n",
    "list(map(lambda number_to_calculate: show_number(number_to_calculate), range(1, 100)))"
   ]
  },
  {
   "cell_type": "code",
   "execution_count": 41,
   "metadata": {},
   "outputs": [
    {
     "name": "stdout",
     "output_type": "stream",
     "text": [
      "{'TreeFive': [15, 30, 45, 60, 75, 90]}\n",
      "{3: 'Tree', 6: 'Tree', 9: 'Tree', 12: 'Tree', 15: 'Tree', 18: 'Tree', 21: 'Tree', 24: 'Tree', 27: 'Tree', 30: 'Tree', 33: 'Tree', 36: 'Tree', 39: 'Tree', 42: 'Tree', 45: 'Tree', 48: 'Tree', 51: 'Tree', 54: 'Tree', 57: 'Tree', 60: 'Tree', 63: 'Tree', 66: 'Tree', 69: 'Tree', 72: 'Tree', 75: 'Tree', 78: 'Tree', 81: 'Tree', 84: 'Tree', 87: 'Tree', 90: 'Tree', 93: 'Tree', 96: 'Tree', 99: 'Tree'}\n",
      "{5: 'Five', 10: 'Five', 15: 'Five', 20: 'Five', 25: 'Five', 30: 'Five', 35: 'Five', 40: 'Five', 45: 'Five', 50: 'Five', 55: 'Five', 60: 'Five', 65: 'Five', 70: 'Five', 75: 'Five', 80: 'Five', 85: 'Five', 90: 'Five', 95: 'Five'}\n"
     ]
    }
   ],
   "source": []
  }
 ],
 "metadata": {
  "kernelspec": {
   "display_name": "base",
   "language": "python",
   "name": "python3"
  },
  "language_info": {
   "codemirror_mode": {
    "name": "ipython",
    "version": 3
   },
   "file_extension": ".py",
   "mimetype": "text/x-python",
   "name": "python",
   "nbconvert_exporter": "python",
   "pygments_lexer": "ipython3",
   "version": "3.11.7"
  }
 },
 "nbformat": 4,
 "nbformat_minor": 2
}
