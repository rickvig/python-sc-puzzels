{
 "cells": [
  {
   "cell_type": "markdown",
   "metadata": {},
   "source": [
    "Escreva uma biblioteca que suporte validação e formatação de códigos postais para o Reino Unido.\\\n",
    "Os detalhes sobre quais códigos postais são válidos e quais são as partes em que consistem podem \\\n",
    "ser encontrados em https://en.wikipedia.org/wiki/Postcodes_in_the_United_Kingdom#Formatting.\\\n",
    "A API que esta biblioteca fornece é sua escolha.\n",
    "\n",
    "\n",
    "Write a library that supports validating and formatting post codes for UK.\\\n",
    "The details of which post codes are valid and which are the parts they consist\\\n",
    "of can be found at https://en.wikipedia.org/wiki/Postcodes_in_the_United_Kingdom#Formatting.\\\n",
    "The API that this library provides is your choice.\n",
    "\n",
    "examples:\n",
    "\n",
    "\"SW1W 0NY\", \"PO16 7GZ\", \"GU16 7HF\", and \"L1 8JQ\"."
   ]
  },
  {
   "cell_type": "code",
   "execution_count": 4,
   "metadata": {},
   "outputs": [
    {
     "data": {
      "text/plain": [
       "['The rain in Spain']"
      ]
     },
     "execution_count": 4,
     "metadata": {},
     "output_type": "execute_result"
    }
   ],
   "source": [
    "import re\n",
    "\n",
    "txt = \"The rain in Spain\"\n",
    "re.findall(\"^The.*Spain$\", txt)"
   ]
  },
  {
   "cell_type": "code",
   "execution_count": 40,
   "metadata": {},
   "outputs": [
    {
     "name": "stdout",
     "output_type": "stream",
     "text": [
      "['SW1W0NY']\n",
      "SW1W 0NY\n",
      "['PO167GZ']\n",
      "PO16 7GZ\n",
      "['W1N4DJ']\n",
      "W1N 4DJ\n",
      "['L18JQ']\n",
      "L1 8JQ\n",
      "['TW89GS']\n",
      "TW8 9GS\n",
      "[]\n",
      " \n",
      "['EC1A1BB']\n",
      "EC1A 1BB\n",
      "['W1A0AX']\n",
      "W1A 0AX\n",
      "['M11AE']\n",
      "M1 1AE\n",
      "['B338TH']\n",
      "B33 8TH\n",
      "['CR26XH']\n",
      "CR2 6XH\n",
      "['DN551PT']\n",
      "DN55 1PT\n"
     ]
    }
   ],
   "source": [
    "txts = ['SW1W 0NY', 'PO16 7GZ', 'W1N 4DJ', 'L1 8JQ', 'TW89GS', '', 'EC1A1BB'\n",
    ", 'W1A0AX'\n",
    ", 'm11ae'\n",
    ", 'b338th'\n",
    ", 'cr26xh'\n",
    ", 'DN551PT'\n",
    "]\n",
    "\n",
    "for txt in txts:\n",
    "    txt = txt.replace(' ', '').upper()\n",
    "    print(re.findall(\"^[A-Z]{1,2}[0-9][A-Z0-9]? ?[0-9][A-Z]{2}$\", txt))\n",
    "    print(f'{txt[0:-3]} {txt[-3:]}')\n",
    "    "
   ]
  },
  {
   "cell_type": "code",
   "execution_count": 13,
   "metadata": {},
   "outputs": [
    {
     "name": "stdout",
     "output_type": "stream",
     "text": [
      "/usr/sbin/sendmail - \\d+ errors, \\d+ warnings\n"
     ]
    }
   ],
   "source": [
    "digits_re = r'\\d+'\n",
    "sample = '/usr/sbin/sendmail - 0 errors, 12 warnings'\n",
    "print(re.sub(digits_re, digits_re.replace('\\\\', r'\\\\'), sample))"
   ]
  },
  {
   "cell_type": "code",
   "execution_count": 19,
   "metadata": {},
   "outputs": [
    {
     "ename": "IndexError",
     "evalue": "Replacement index 1 out of range for positional args tuple",
     "output_type": "error",
     "traceback": [
      "\u001b[0;31m---------------------------------------------------------------------------\u001b[0m",
      "\u001b[0;31mIndexError\u001b[0m                                Traceback (most recent call last)",
      "Cell \u001b[0;32mIn[19], line 1\u001b[0m\n\u001b[0;32m----> 1\u001b[0m \u001b[38;5;124m'\u001b[39m\u001b[38;5;132;01m{}\u001b[39;00m\u001b[38;5;132;01m{}\u001b[39;00m\u001b[38;5;124m \u001b[39m\u001b[38;5;132;01m{}\u001b[39;00m\u001b[38;5;132;01m{}\u001b[39;00m\u001b[38;5;132;01m{}\u001b[39;00m\u001b[38;5;124m'\u001b[39m\u001b[38;5;241m.\u001b[39mformat(\u001b[38;5;124m'\u001b[39m\u001b[38;5;124mSW1W0NY\u001b[39m\u001b[38;5;124m'\u001b[39m)\n",
      "\u001b[0;31mIndexError\u001b[0m: Replacement index 1 out of range for positional args tuple"
     ]
    }
   ],
   "source": [
    "'{}{} {}{}{}'.format(*'SW1W0NY')"
   ]
  },
  {
   "cell_type": "code",
   "execution_count": 26,
   "metadata": {},
   "outputs": [
    {
     "data": {
      "text/plain": [
       "('0NY', 'A9')"
      ]
     },
     "execution_count": 26,
     "metadata": {},
     "output_type": "execute_result"
    }
   ],
   "source": [
    "'SW1W0NY'[-3:], 'SW1W0NY'[0:-3]"
   ]
  },
  {
   "cell_type": "code",
   "execution_count": null,
   "metadata": {},
   "outputs": [],
   "source": []
  }
 ],
 "metadata": {
  "kernelspec": {
   "display_name": "base",
   "language": "python",
   "name": "python3"
  },
  "language_info": {
   "codemirror_mode": {
    "name": "ipython",
    "version": 3
   },
   "file_extension": ".py",
   "mimetype": "text/x-python",
   "name": "python",
   "nbconvert_exporter": "python",
   "pygments_lexer": "ipython3",
   "version": "3.11.7"
  }
 },
 "nbformat": 4,
 "nbformat_minor": 2
}
